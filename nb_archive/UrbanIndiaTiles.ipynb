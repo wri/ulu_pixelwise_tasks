{
 "cells": [
  {
   "cell_type": "code",
   "execution_count": 1,
   "metadata": {},
   "outputs": [
    {
     "name": "stdout",
     "output_type": "stream",
     "text": [
      "ISPY2 False\n"
     ]
    }
   ],
   "source": [
    "import platform\n",
    "import re\n",
    "version=platform.python_version()\n",
    "ISPY2=re.match('^2.',version)\n",
    "print('ISPY2',ISPY2 is not None)\n",
    "import os,sys\n",
    "import warnings\n",
    "warnings.filterwarnings(\"ignore\", category=DeprecationWarning)\n",
    "sys.path.append(os.environ['PROJECT_DIR'])\n",
    "if not ISPY2:\n",
    "    from importlib import reload"
   ]
  },
  {
   "cell_type": "code",
   "execution_count": 50,
   "metadata": {},
   "outputs": [],
   "source": [
    "import re\n",
    "import math\n",
    "import numpy as np\n",
    "import geopandas as gpd\n",
    "import pandas as pd\n",
    "import geojson \n",
    "from config import REGIONS_DIR\n",
    "from glob import glob\n",
    "from pprint import pprint\n",
    "import descarteslabs as dl\n",
    "import utils.load as load\n",
    "import utils.helpers as h\n",
    "import ulu.info as info\n",
    "import dl_jobs.nd_json as ndj\n",
    "import mproc"
   ]
  },
  {
   "cell_type": "markdown",
   "metadata": {},
   "source": [
    "---"
   ]
  },
  {
   "cell_type": "code",
   "execution_count": 36,
   "metadata": {},
   "outputs": [],
   "source": [
    "def tiles_path(i):\n",
    "    return f'{PATH_ROOT}-b{i}.p'\n",
    "\n",
    "\n",
    "def get_tile_keys(name,i,shape):\n",
    "    try:\n",
    "        tiles=dl.scenes.DLTile.from_shape(\n",
    "                shape=shape, \n",
    "                resolution=res, \n",
    "                tilesize=size, \n",
    "                pad=pad )\n",
    "        return [t.key for t in tiles]\n",
    "    except Exception as e:\n",
    "        print(\"ERROR:\",i,name,e)\n",
    "        return []\n",
    "\n",
    "\n",
    "\n",
    "def save_features(name_feats,limit=None):\n",
    "    name,features=name_feats\n",
    "    print(\"\\nSTART:\",name)\n",
    "    if limit:\n",
    "        features=features[:limit]\n",
    "    def _run():\n",
    "        tiles=[t for t in (get_tile_keys(name,i,f) for i,f in enumerate(features))]\n",
    "        tiles=h.flatten_list(tiles)\n",
    "        h.save_pickle(tiles,name)\n",
    "        return len(tiles)\n",
    "    count=_run()\n",
    "    print(\"\\nCOMPLETE:\",count,name)\n",
    "    return name"
   ]
  },
  {
   "cell_type": "markdown",
   "metadata": {},
   "source": [
    "---"
   ]
  },
  {
   "cell_type": "code",
   "execution_count": 4,
   "metadata": {},
   "outputs": [],
   "source": [
    "PRODUCT='test_prod'\n",
    "REGION='urban_india'\n",
    "LIMIT=None"
   ]
  },
  {
   "cell_type": "code",
   "execution_count": 5,
   "metadata": {},
   "outputs": [],
   "source": [
    "path=info.get_tiles_path(PRODUCT,REGION,LIMIT)\n",
    "meta=load.meta(PRODUCT)\n",
    "res,size,pad=h.resolution_size_padding(meta=meta)"
   ]
  },
  {
   "cell_type": "code",
   "execution_count": 7,
   "metadata": {},
   "outputs": [
    {
     "data": {
      "text/plain": [
       "'urban_india-5:1024:8.sorted-unique.geojson'"
      ]
     },
     "execution_count": 7,
     "metadata": {},
     "output_type": "execute_result"
    }
   ],
   "source": [
    "PATH_ROOT=re.sub('.p$','',path)\n",
    "SORTED_PATH=f\"{PATH_ROOT.split('/')[-1]}.sorted-unique.geojson\"\n",
    "SORTED_PATH"
   ]
  },
  {
   "cell_type": "markdown",
   "metadata": {},
   "source": [
    "---"
   ]
  },
  {
   "cell_type": "code",
   "execution_count": 8,
   "metadata": {},
   "outputs": [],
   "source": [
    "# %time gdf=load.geodataframe(f'{REGION}.geojson')"
   ]
  },
  {
   "cell_type": "code",
   "execution_count": 9,
   "metadata": {},
   "outputs": [],
   "source": [
    "# gdf['lon']=gdf.geometry.centroid.x\n",
    "# gdf['lat']=gdf.geometry.centroid.y\n",
    "# gdf.sort_values(by=['lon','lat'],axis=0,inplace=True)\n",
    "# gdf.reset_index(inplace=True,drop=True)\n",
    "# print(\"NB_SAMPLES:\",gdf.shape[0])\n",
    "# gdf.head(3)"
   ]
  },
  {
   "cell_type": "code",
   "execution_count": 10,
   "metadata": {},
   "outputs": [],
   "source": [
    "# gdf.Urban.unique()\n",
    "# gdf.drop(['Urban'],axis=1,inplace=True)\n",
    "# gdf.sample()"
   ]
  },
  {
   "cell_type": "code",
   "execution_count": 11,
   "metadata": {},
   "outputs": [],
   "source": [
    "# gdf.to_file(SORTED_PATH, driver='GeoJSON')"
   ]
  },
  {
   "cell_type": "markdown",
   "metadata": {},
   "source": [
    "---"
   ]
  },
  {
   "cell_type": "code",
   "execution_count": 12,
   "metadata": {},
   "outputs": [
    {
     "data": {
      "text/plain": [
       "26869"
      ]
     },
     "execution_count": 12,
     "metadata": {},
     "output_type": "execute_result"
    }
   ],
   "source": [
    "gdf=gpd.read_file(SORTED_PATH)\n",
    "gdf.shape[0]"
   ]
  },
  {
   "cell_type": "code",
   "execution_count": 13,
   "metadata": {},
   "outputs": [
    {
     "name": "stdout",
     "output_type": "stream",
     "text": [
      "CPU times: user 38.7 s, sys: 1.33 s, total: 40 s\n",
      "Wall time: 40 s\n"
     ]
    }
   ],
   "source": [
    "%time feature_collection=geojson.loads(gdf.to_json())\n",
    "features=feature_collection['features']\n",
    "del(gdf)\n",
    "del(feature_collection)"
   ]
  },
  {
   "cell_type": "code",
   "execution_count": 16,
   "metadata": {},
   "outputs": [
    {
     "name": "stdout",
     "output_type": "stream",
     "text": [
      "BATCH_SIZE,NB_BATHES,TOTAL:  5374 5 26869\n",
      "- 5374 /Users/brook/WRI/RW/code/ulu/ulu_pixelwise_tasks/repo/data/tiles/urban_india-5:1024:8-b0.p\n",
      "- 5374 /Users/brook/WRI/RW/code/ulu/ulu_pixelwise_tasks/repo/data/tiles/urban_india-5:1024:8-b1.p\n",
      "- 5374 /Users/brook/WRI/RW/code/ulu/ulu_pixelwise_tasks/repo/data/tiles/urban_india-5:1024:8-b2.p\n",
      "- 5374 /Users/brook/WRI/RW/code/ulu/ulu_pixelwise_tasks/repo/data/tiles/urban_india-5:1024:8-b3.p\n",
      "- 5373 /Users/brook/WRI/RW/code/ulu/ulu_pixelwise_tasks/repo/data/tiles/urban_india-5:1024:8-b4.p\n"
     ]
    }
   ],
   "source": [
    "TOTAL=len(features)\n",
    "N=5\n",
    "BS=int(math.ceil(TOTAL/N))\n",
    "BATCHES=[(tiles_path(n),features[n*BS:(n+1)*BS]) for n in range(N)]\n",
    "print(\"BATCH_SIZE,NB_BATHES,TOTAL: \",BS,N,TOTAL)\n",
    "for path,feats in BATCHES:\n",
    "    print('-',len(feats),path)"
   ]
  },
  {
   "cell_type": "markdown",
   "metadata": {},
   "source": [
    "---"
   ]
  },
  {
   "cell_type": "code",
   "execution_count": 38,
   "metadata": {},
   "outputs": [],
   "source": [
    "# %time path=save_features(BATCHES[0],limit=15)"
   ]
  },
  {
   "cell_type": "code",
   "execution_count": 31,
   "metadata": {},
   "outputs": [],
   "source": [
    "# tkeys=h.read_pickle(path)\n",
    "# print(len(tkeys))\n",
    "# tkeys[:5]"
   ]
  },
  {
   "cell_type": "code",
   "execution_count": 39,
   "metadata": {},
   "outputs": [
    {
     "name": "stdout",
     "output_type": "stream",
     "text": [
      "\n",
      "START:\n",
      "START: /Users/brook/WRI/RW/code/ulu/ulu_pixelwise_tasks/repo/data/tiles/urban_india-5:1024:8-b1.p\n",
      "\n",
      "START: /Users/brook/WRI/RW/code/ulu/ulu_pixelwise_tasks/repo/data/tiles/urban_india-5:1024:8-b2.p\n",
      "\n",
      "START: /Users/brook/WRI/RW/code/ulu/ulu_pixelwise_tasks/repo/data/tiles/urban_india-5:1024:8-b3.p\n",
      "\n",
      "START: /Users/brook/WRI/RW/code/ulu/ulu_pixelwise_tasks/repo/data/tiles/urban_india-5:1024:8-b0.p\n",
      " /Users/brook/WRI/RW/code/ulu/ulu_pixelwise_tasks/repo/data/tiles/urban_india-5:1024:8-b4.p\n",
      "\n",
      "COMPLETE: 20369 /Users/brook/WRI/RW/code/ulu/ulu_pixelwise_tasks/repo/data/tiles/urban_india-5:1024:8-b3.p\n",
      "\n",
      "COMPLETE: 20465 /Users/brook/WRI/RW/code/ulu/ulu_pixelwise_tasks/repo/data/tiles/urban_india-5:1024:8-b4.p\n",
      "ERROR: 5098 /Users/brook/WRI/RW/code/ulu/ulu_pixelwise_tasks/repo/data/tiles/urban_india-5:1024:8-b1.p HTTPSConnectionPool(host='platform.descarteslabs.com', port=443): Max retries exceeded with url: /raster/v1/dlkeys/from_shape (Caused by ResponseError('too many 500 error responses',))\n",
      "\n",
      "COMPLETE: 19771 /Users/brook/WRI/RW/code/ulu/ulu_pixelwise_tasks/repo/data/tiles/urban_india-5:1024:8-b1.p\n",
      "\n",
      "COMPLETE: 19178 /Users/brook/WRI/RW/code/ulu/ulu_pixelwise_tasks/repo/data/tiles/urban_india-5:1024:8-b2.p\n",
      "\n",
      "COMPLETE: 19609 /Users/brook/WRI/RW/code/ulu/ulu_pixelwise_tasks/repo/data/tiles/urban_india-5:1024:8-b0.p\n",
      "CPU times: user 2min 36s, sys: 18.8 s, total: 2min 55s\n",
      "Wall time: 10min 48s\n"
     ]
    }
   ],
   "source": [
    "%time out=mproc.map_with_threadpool(save_features,BATCHES,max_processes=len(BATCHES))"
   ]
  },
  {
   "cell_type": "code",
   "execution_count": 41,
   "metadata": {},
   "outputs": [
    {
     "name": "stdout",
     "output_type": "stream",
     "text": [
      "0 19609\n",
      "1 19771\n",
      "2 19178\n",
      "3 20369\n",
      "4 20465\n"
     ]
    }
   ],
   "source": [
    "for index in range(5):\n",
    "    print(index,len(h.read_pickle(tiles_path(index))))"
   ]
  },
  {
   "cell_type": "code",
   "execution_count": 48,
   "metadata": {},
   "outputs": [],
   "source": [
    "# p,feats=BATCHES[1]\n",
    "# print(p)\n",
    "# print(len(feats))\n",
    "# bad_tile=feats[5098]\n",
    "# %time tile_keys=get_tile_keys('feat_b1_5098',5098,bad_tile)\n",
    "# h.save_pickle(tile_keys,f'{PATH_ROOT}-feat_b1_5098.p')"
   ]
  },
  {
   "cell_type": "raw",
   "metadata": {},
   "source": [
    "/Users/brook/WRI/RW/code/ulu/ulu_pixelwise_tasks/repo/data/tiles/urban_india-5:1024:8-b1.p\n",
    "ERROR: 5098 feat_b1_5098 HTTPSConnectionPool(host='platform.descarteslabs.com', port=443): Max retries exceeded with url: /raster/v1/dlkeys/from_shape (Caused by ResponseError('too many 500 error responses',))\n",
    "CPU times: user 343 ms, sys: 67.2 ms, total: 410 ms\n",
    "Wall time: 2min 2s"
   ]
  },
  {
   "cell_type": "markdown",
   "metadata": {},
   "source": [
    "---"
   ]
  },
  {
   "cell_type": "code",
   "execution_count": 51,
   "metadata": {},
   "outputs": [
    {
     "name": "stdout",
     "output_type": "stream",
     "text": [
      "CPU times: user 12.3 ms, sys: 3.75 ms, total: 16.1 ms\n",
      "Wall time: 14.9 ms\n",
      "all 99392\n",
      "\t= 99392\n",
      "unique 66202\n",
      "\t= 66202\n"
     ]
    }
   ],
   "source": [
    "%time all_tiles=[h.read_pickle(tiles_path(i)) for i in range(N)]\n",
    "all_tiles=h.flatten_list(all_tiles)\n",
    "print('all',len(all_tiles))\n",
    "df=pd.DataFrame(all_tiles,columns=['tile_key'])\n",
    "print('\\t=',df.shape[0])\n",
    "unique_tiles=list(df.tile_key.unique())\n",
    "print('unique',len(unique_tiles))\n",
    "h.save_pickle(unique_tiles,f'{PATH_ROOT}-all.p')\n",
    "tile_keys=h.read_pickle(f'{PATH_ROOT}-all.p')\n",
    "print('\\t=',len(tile_keys))"
   ]
  },
  {
   "cell_type": "code",
   "execution_count": 52,
   "metadata": {},
   "outputs": [
    {
     "name": "stdout",
     "output_type": "stream",
     "text": [
      "dev[2000]: urban_india-5:1024:8-DEV2000.p\n"
     ]
    }
   ],
   "source": [
    "DEV_COUNT=2000\n",
    "tk=tile_keys[:DEV_COUNT]\n",
    "path=f'{PATH_ROOT}-DEV{DEV_COUNT}.p'\n",
    "print(f'{\"dev\"}[{len(tk)}]: {os.path.basename(path)}')\n",
    "h.save_pickle(tk,path)"
   ]
  },
  {
   "cell_type": "code",
   "execution_count": 54,
   "metadata": {},
   "outputs": [
    {
     "name": "stdout",
     "output_type": "stream",
     "text": [
      "dev[660]: urban_india-5:1024:8-DEV660.p\n"
     ]
    }
   ],
   "source": [
    "DEV_COUNT=660\n",
    "tk=tile_keys[:DEV_COUNT]\n",
    "path=f'{PATH_ROOT}-DEV{DEV_COUNT}.p'\n",
    "print(f'{\"dev\"}[{len(tk)}]: {os.path.basename(path)}')\n",
    "h.save_pickle(tk,path)"
   ]
  },
  {
   "cell_type": "code",
   "execution_count": null,
   "metadata": {},
   "outputs": [],
   "source": []
  }
 ],
 "metadata": {
  "kernelspec": {
   "display_name": "Python [conda env:py36]",
   "language": "python",
   "name": "conda-env-py36-py"
  },
  "language_info": {
   "codemirror_mode": {
    "name": "ipython",
    "version": 3
   },
   "file_extension": ".py",
   "mimetype": "text/x-python",
   "name": "python",
   "nbconvert_exporter": "python",
   "pygments_lexer": "ipython3",
   "version": "3.6.7"
  }
 },
 "nbformat": 4,
 "nbformat_minor": 2
}
